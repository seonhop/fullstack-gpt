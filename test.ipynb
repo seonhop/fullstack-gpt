{
 "cells": [
  {
   "cell_type": "code",
   "execution_count": 6,
   "metadata": {},
   "outputs": [
    {
     "name": "stdout",
     "output_type": "stream",
     "text": [
      "hi\n"
     ]
    }
   ],
   "source": [
    "from langchain.chat_models import ChatOpenAI\n",
    "from langchain.prompts import PromptTemplate, ChatPromptTemplate\n",
    "from langchain.callbacks import StreamingStdOutCallbackHandler\n",
    "\n",
    "# Need to have OPENAI_API_KEY variable in the .env file\n",
    "# Or pass `open_ai_key` as a named parameter\n",
    "\n",
    "chat = ChatOpenAI(model = \"gpt-4o-mini\", streaming=True, callbacks=[StreamingStdOutCallbackHandler()])\n",
    "print(\"hi\")\n"
   ]
  },
  {
   "cell_type": "code",
   "execution_count": 2,
   "metadata": {},
   "outputs": [
    {
     "name": "stdout",
     "output_type": "stream",
     "text": [
      "hi\n"
     ]
    }
   ],
   "source": [
    "print(\"hi\")"
   ]
  },
  {
   "cell_type": "code",
   "execution_count": 3,
   "metadata": {},
   "outputs": [
    {
     "data": {
      "text/plain": [
       "'Hi! How can I assist you today?'"
      ]
     },
     "execution_count": 3,
     "metadata": {},
     "output_type": "execute_result"
    }
   ],
   "source": [
    "# Instantiation using from_template (recommended)\n",
    "template = PromptTemplate.from_template(\"Say {foo}\")\n",
    "prompt = template.format(foo = \"Hi\")\n",
    "chat.predict(prompt)"
   ]
  },
  {
   "cell_type": "code",
   "execution_count": 7,
   "metadata": {},
   "outputs": [
    {
     "name": "stdout",
     "output_type": "stream",
     "text": [
      "Based on the provided intake form for John Doe, the classification is as follows:\n",
      "\n",
      "**Classification: Serious pathology (Referral recommended)**\n",
      "\n",
      "**Rationale:** \n",
      "- John presents with lower back pain that radiates down the right leg, which is indicative of possible nerve involvement (e.g., sciatica).\n",
      "- He has red flag symptoms, including unexplained weight loss and numbness in the legs, which raise concern for potential serious underlying conditions such as a herniated disc or other neurological issues.\n",
      "- His medical history includes hypertension and Type 2 diabetes, which could complicate his condition and require further evaluation by a specialist.\n",
      "\n",
      "Given these factors, a referral for further assessment and imaging is recommended before initiating physical therapy."
     ]
    },
    {
     "data": {
      "text/plain": [
       "AIMessageChunk(content='Based on the provided intake form for John Doe, the classification is as follows:\\n\\n**Classification: Serious pathology (Referral recommended)**\\n\\n**Rationale:** \\n- John presents with lower back pain that radiates down the right leg, which is indicative of possible nerve involvement (e.g., sciatica).\\n- He has red flag symptoms, including unexplained weight loss and numbness in the legs, which raise concern for potential serious underlying conditions such as a herniated disc or other neurological issues.\\n- His medical history includes hypertension and Type 2 diabetes, which could complicate his condition and require further evaluation by a specialist.\\n\\nGiven these factors, a referral for further assessment and imaging is recommended before initiating physical therapy.')"
      ]
     },
     "execution_count": 7,
     "metadata": {},
     "output_type": "execute_result"
    }
   ],
   "source": [
    "ex1 = \"Patient Name: Sarah Johnson | Age: 40 | Gender: Female | Primary Complaint: Neck pain | Duration of Symptoms: 1 week | Pain Severity (0-10): 4 | Pain Description: Dull ache, localized to the base of the skull | Previous Injuries/Surgeries: None | Medical History: Anxiety | Current Medications: None | Red Flag Symptoms: None | Daily Activities Affected: Difficulty turning head when driving | Goals for Physical Therapy: Pain relief and improved range of motion | Classification: Treatable pathology (Physical therapy)\"\n",
    "ex2 = \"Patient Name: Mark Lee | Age: 60 | Gender: Male | Primary Complaint: Severe shoulder pain | Duration of Symptoms: 4 months | Pain Severity (0-10): 9 | Pain Description: Sharp, stabbing pain, especially at night | Previous Injuries/Surgeries: Rotator cuff surgery 2 years ago | Medical History: Hypertension | Current Medications: Lisinopril | Red Flag Symptoms: None | Daily Activities Affected: Inability to lift the arm overhead, Trouble sleeping due to pain | Goals for Physical Therapy: Pain relief, Restored function | Classification: Treatable pathology (Physical therapy)\"\n",
    "ex3 = \"Patient Name: Emily Davis | Age: 70 | Gender: Female | Primary Complaint: Unexplained weight loss and upper back pain | Duration of Symptoms: 2 months | Pain Severity (0-10): 6 | Pain Description: Constant, dull pain in the upper back | Previous Injuries/Surgeries: None | Medical History: Osteoporosis | Current Medications: Calcium supplements, Vitamin D | Red Flag Symptoms: Unexplained weight loss | Daily Activities Affected: Trouble standing for long periods | Goals for Physical Therapy: Pain management, Improved posture | Classification: Serious pathology (Referral recommended)\"\n",
    "ex4 = \"Patient Name: James Wilson | Age: 50 | Gender: Male | Primary Complaint: Knee pain after jogging | Duration of Symptoms: 2 weeks | Pain Severity (0-10): 5 | Pain Description: Aching pain, worse after activity | Previous Injuries/Surgeries: None | Medical History: None | Current Medications: None | Red Flag Symptoms: None | Daily Activities Affected: Difficulty with stairs, Discomfort during exercise | Goals for Physical Therapy: Pain relief, Return to running | Classification: Treatable pathology (Physical therapy)\"\n",
    "ex5 = \"Patient Name: Linda Green | Age: 65 | Gender: Female | Primary Complaint: Severe back pain with leg numbness | Duration of Symptoms: 3 months | Pain Severity (0-10): 8 | Pain Description: Severe, shooting pain down the left leg | Previous Injuries/Surgeries: None | Medical History: Type 2 Diabetes | Current Medications: Metformin | Red Flag Symptoms: Numbness in legs, Difficulty controlling bladder | Daily Activities Affected: Inability to walk long distances, Trouble sleeping due to pain | Goals for Physical Therapy: Pain relief, Restored function | Classification: Serious pathology (Referral recommended)\"\n",
    "input = \"Patient Name: John Doe | Age: 55 | Gender: Male | Primary Complaint: Lower back pain | Duration of Symptoms: 3 weeks | Pain Severity (0-10): 7 | Pain Description: Sharp pain radiating down the right leg | Previous Injuries/Surgeries: None | Medical History: Hypertension, Type 2 Diabetes | Current Medications: Metformin, Lisinopril | Red Flag Symptoms: Unexplained weight loss, Numbness in legs | Daily Activities Affected: Difficulty sitting for long periods, Trouble lifting objects | Goals for Physical Therapy: Pain relief, Improved mobility\"\n",
    "examples = [ex1, ex2, ex3, ex4, ex5]\n",
    "examples_prompt = \"\\n\".join(examples)\n",
    "\n",
    "template = ChatPromptTemplate.from_messages([\n",
    "    (\"system\", \"You are a medical expert. Your task is to differentiate between serious pathology and treatable pathology based on patient intake form\"),\n",
    "    (\"ai\", examples_prompt),\n",
    "    (\"human\", \"Now, classify the following intake form: \\n {intake_form_data}\")\n",
    "])\n",
    "\n",
    "prompt = template.format_messages(intake_form_data = input)\n",
    "\n",
    "\n",
    "chat.predict_messages(prompt)"
   ]
  },
  {
   "cell_type": "code",
   "execution_count": null,
   "metadata": {},
   "outputs": [],
   "source": []
  }
 ],
 "metadata": {
  "kernelspec": {
   "display_name": ".venv",
   "language": "python",
   "name": "python3"
  },
  "language_info": {
   "codemirror_mode": {
    "name": "ipython",
    "version": 3
   },
   "file_extension": ".py",
   "mimetype": "text/x-python",
   "name": "python",
   "nbconvert_exporter": "python",
   "pygments_lexer": "ipython3",
   "version": "3.11.9"
  },
  "orig_nbformat": 4
 },
 "nbformat": 4,
 "nbformat_minor": 2
}
